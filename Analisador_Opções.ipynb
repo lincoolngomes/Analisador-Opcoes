{
  "cells": [
    {
      "cell_type": "markdown",
      "metadata": {
        "colab_type": "text",
        "id": "view-in-github"
      },
      "source": [
        "<a href=\"https://colab.research.google.com/github/lincoolngomes/Analisador-Opcoes/blob/master/Analisador_Op%C3%A7%C3%B5es.ipynb\" target=\"_parent\"><img src=\"https://colab.research.google.com/assets/colab-badge.svg\" alt=\"Open In Colab\"/></a>"
      ]
    },
    {
      "cell_type": "code",
      "execution_count": 1,
      "metadata": {
        "colab": {
          "base_uri": "https://localhost:8080/"
        },
        "id": "QmQRit5QPbwf",
        "outputId": "51e30540-3c81-4d06-b8ba-f4433472c41d"
      },
      "outputs": [],
      "source": [
        "import pandas as pd\n",
        "import datetime as dt\n",
        "import yfinance as yf\n",
        "import requests\n",
        "from bs4 import BeautifulSoup\n",
        "import json\n",
        "\n",
        "## Escolha o ativo\n",
        "ativo = 'ITSA4.SA'\n",
        "\n",
        "# Configuração DataFrame\n",
        "df = pd.DataFrame()\n",
        "\n",
        "# Configuração Wwbscraping\n",
        "url = f'https://oplab.com.br/mercado/acoes/{ativo}'\n",
        "response = requests.get(url)\n",
        "\n",
        "soup = BeautifulSoup(response.content, 'html.parser')\n",
        "\n",
        "# Encontre o elemento <script> com o ID \"__NEXT_DATA__\"\n",
        "script = soup.find('script', {'id': '__NEXT_DATA__'})\n",
        "\n",
        "# Extraia o conteúdo do elemento e carregue-o como um objeto JSON\n",
        "json_data = json.loads(script.string)\n",
        "\n"
      ]
    }
  ],
  "metadata": {
    "colab": {
      "authorship_tag": "ABX9TyOBfLaRl+R9bPVxAUT86Ped",
      "include_colab_link": true,
      "provenance": []
    },
    "kernelspec": {
      "display_name": "Python 3",
      "name": "python3"
    },
    "language_info": {
      "codemirror_mode": {
        "name": "ipython",
        "version": 3
      },
      "file_extension": ".py",
      "mimetype": "text/x-python",
      "name": "python",
      "nbconvert_exporter": "python",
      "pygments_lexer": "ipython3",
      "version": "3.11.2"
    }
  },
  "nbformat": 4,
  "nbformat_minor": 0
}
